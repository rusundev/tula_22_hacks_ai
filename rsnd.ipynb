{
 "cells": [
  {
   "cell_type": "code",
   "execution_count": 1,
   "id": "254fb0fd",
   "metadata": {},
   "outputs": [],
   "source": [
    "import numpy as np\n",
    "#from scipy.fft import fft, fftfreq\n",
    "from scipy.fft import fftfreq"
   ]
  },
  {
   "cell_type": "code",
   "execution_count": 2,
   "id": "6fdbc55f",
   "metadata": {},
   "outputs": [],
   "source": [
    "def fft_angle(angle, T):\n",
    "    \"\"\"\n",
    "    Computes FFT of angle data with sampling period T.\n",
    "    Returns list of frequencies and absolute values of FFT spectrum\n",
    "    \"\"\"\n",
    "    N = len(angle)\n",
    "    \n",
    "    yf = np.fft.fft(angle)\n",
    "    xf = fftfreq(N, T)[:N//2]\n",
    "    \n",
    "    fft_amplitude = 2/N * np.abs(yf[0:N//2])\n",
    "    # NOTE: zero frequency component is not doubled\n",
    "    fft_amplitude[0] = fft_amplitude[0] / 2\n",
    "    \n",
    "    return {'frequency': xf, 'fft_amplitude': fft_amplitude}"
   ]
  }
 ],
 "metadata": {
  "kernelspec": {
   "display_name": "Python 3",
   "language": "python",
   "name": "python3"
  },
  "language_info": {
   "codemirror_mode": {
    "name": "ipython",
    "version": 3
   },
   "file_extension": ".py",
   "mimetype": "text/x-python",
   "name": "python",
   "nbconvert_exporter": "python",
   "pygments_lexer": "ipython3",
   "version": "3.8.8"
  }
 },
 "nbformat": 4,
 "nbformat_minor": 5
}
